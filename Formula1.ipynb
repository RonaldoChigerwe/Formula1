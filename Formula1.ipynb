{
 "cells": [
  {
   "cell_type": "code",
   "execution_count": 1,
   "metadata": {},
   "outputs": [
    {
     "name": "stdout",
     "output_type": "stream",
     "text": [
      "Requirement already satisfied: fastf1 in c:\\users\\ronaldochigerwe\\anaconda3\\lib\\site-packages (2.3.0)\n",
      "Requirement already satisfied: requests-cache>=0.8.0 in c:\\users\\ronaldochigerwe\\anaconda3\\lib\\site-packages (from fastf1) (1.0.0)\n",
      "Requirement already satisfied: signalr-client-aio in c:\\users\\ronaldochigerwe\\anaconda3\\lib\\site-packages (from fastf1) (0.0.1.6.2)\n",
      "Requirement already satisfied: matplotlib>=3.3.3 in c:\\users\\ronaldochigerwe\\anaconda3\\lib\\site-packages (from fastf1) (3.5.1)\n",
      "Requirement already satisfied: requests in c:\\users\\ronaldochigerwe\\anaconda3\\lib\\site-packages (from fastf1) (2.27.1)\n",
      "Requirement already satisfied: numpy>=1.17.3 in c:\\users\\ronaldochigerwe\\anaconda3\\lib\\site-packages (from fastf1) (1.22.4)\n",
      "Requirement already satisfied: thefuzz in c:\\users\\ronaldochigerwe\\anaconda3\\lib\\site-packages (from fastf1) (0.19.0)\n",
      "Requirement already satisfied: pandas>=1.1.0 in c:\\users\\ronaldochigerwe\\anaconda3\\lib\\site-packages (from fastf1) (1.4.2)\n",
      "Requirement already satisfied: timple>=0.1.2 in c:\\users\\ronaldochigerwe\\anaconda3\\lib\\site-packages (from fastf1) (0.1.5)\n",
      "Requirement already satisfied: scipy in c:\\users\\ronaldochigerwe\\anaconda3\\lib\\site-packages (from fastf1) (1.7.3)\n",
      "Requirement already satisfied: cycler>=0.10 in c:\\users\\ronaldochigerwe\\anaconda3\\lib\\site-packages (from matplotlib>=3.3.3->fastf1) (0.11.0)\n",
      "Requirement already satisfied: pillow>=6.2.0 in c:\\users\\ronaldochigerwe\\anaconda3\\lib\\site-packages (from matplotlib>=3.3.3->fastf1) (9.3.0)\n",
      "Requirement already satisfied: packaging>=20.0 in c:\\users\\ronaldochigerwe\\anaconda3\\lib\\site-packages (from matplotlib>=3.3.3->fastf1) (21.3)\n",
      "Requirement already satisfied: fonttools>=4.22.0 in c:\\users\\ronaldochigerwe\\anaconda3\\lib\\site-packages (from matplotlib>=3.3.3->fastf1) (4.25.0)\n",
      "Requirement already satisfied: kiwisolver>=1.0.1 in c:\\users\\ronaldochigerwe\\anaconda3\\lib\\site-packages (from matplotlib>=3.3.3->fastf1) (1.3.2)\n",
      "Requirement already satisfied: pyparsing>=2.2.1 in c:\\users\\ronaldochigerwe\\anaconda3\\lib\\site-packages (from matplotlib>=3.3.3->fastf1) (3.0.4)\n",
      "Requirement already satisfied: python-dateutil>=2.7 in c:\\users\\ronaldochigerwe\\anaconda3\\lib\\site-packages (from matplotlib>=3.3.3->fastf1) (2.8.2)\n",
      "Requirement already satisfied: pytz>=2020.1 in c:\\users\\ronaldochigerwe\\anaconda3\\lib\\site-packages (from pandas>=1.1.0->fastf1) (2021.3)\n",
      "Requirement already satisfied: six>=1.5 in c:\\users\\ronaldochigerwe\\anaconda3\\lib\\site-packages (from python-dateutil>=2.7->matplotlib>=3.3.3->fastf1) (1.16.0)\n",
      "Requirement already satisfied: cattrs>=22.2 in c:\\users\\ronaldochigerwe\\anaconda3\\lib\\site-packages (from requests-cache>=0.8.0->fastf1) (22.2.0)\n",
      "Requirement already satisfied: platformdirs>=2.5 in c:\\users\\ronaldochigerwe\\anaconda3\\lib\\site-packages (from requests-cache>=0.8.0->fastf1) (3.1.0)\n",
      "Requirement already satisfied: url-normalize>=1.4 in c:\\users\\ronaldochigerwe\\anaconda3\\lib\\site-packages (from requests-cache>=0.8.0->fastf1) (1.4.3)\n",
      "Requirement already satisfied: attrs>=21.2 in c:\\users\\ronaldochigerwe\\anaconda3\\lib\\site-packages (from requests-cache>=0.8.0->fastf1) (21.4.0)\n",
      "Requirement already satisfied: urllib3>=1.25.5 in c:\\users\\ronaldochigerwe\\anaconda3\\lib\\site-packages (from requests-cache>=0.8.0->fastf1) (1.26.9)\n",
      "Requirement already satisfied: exceptiongroup in c:\\users\\ronaldochigerwe\\anaconda3\\lib\\site-packages (from cattrs>=22.2->requests-cache>=0.8.0->fastf1) (1.1.0)\n",
      "Requirement already satisfied: charset-normalizer~=2.0.0 in c:\\users\\ronaldochigerwe\\anaconda3\\lib\\site-packages (from requests->fastf1) (2.0.4)\n",
      "Requirement already satisfied: idna<4,>=2.5 in c:\\users\\ronaldochigerwe\\anaconda3\\lib\\site-packages (from requests->fastf1) (3.3)\n",
      "Requirement already satisfied: certifi>=2017.4.17 in c:\\users\\ronaldochigerwe\\anaconda3\\lib\\site-packages (from requests->fastf1) (2021.10.8)\n",
      "Requirement already satisfied: websockets>=4.0.1 in c:\\users\\ronaldochigerwe\\anaconda3\\lib\\site-packages (from signalr-client-aio->fastf1) (10.4)\n",
      "Note: you may need to restart the kernel to use updated packages.\n"
     ]
    }
   ],
   "source": [
    "%pip install fastf1"
   ]
  },
  {
   "cell_type": "code",
   "execution_count": 1,
   "metadata": {},
   "outputs": [],
   "source": [
    "# Importing fastf1\n",
    "import fastf1 as ff1"
   ]
  },
  {
   "cell_type": "code",
   "execution_count": 2,
   "metadata": {},
   "outputs": [],
   "source": [
    "# Enabling cache: \n",
    "ff1.Cache.enable_cache('cache')"
   ]
  },
  {
   "cell_type": "code",
   "execution_count": 5,
   "metadata": {},
   "outputs": [],
   "source": [
    "# Specifying the session of interest\n",
    "YEAR = 2023\n",
    "RACE = 'Bahrain'\n",
    "SESSION = 'FP1'\n",
    "\n",
    "session = ff1.get_session(\n",
    "                YEAR,\n",
    "                RACE,\n",
    "                SESSION\n",
    ")"
   ]
  },
  {
   "cell_type": "code",
   "execution_count": 6,
   "metadata": {},
   "outputs": [
    {
     "name": "stderr",
     "output_type": "stream",
     "text": [
      "core           INFO \tLoading data for Bahrain Grand Prix - Practice 1 [v2.3.0]\n",
      "api            INFO \tNo cached data found for driver_info. Loading data...\n",
      "api            INFO \tFetching driver list...\n",
      "api            INFO \tData has been written to cache!\n",
      "core        WARNING \tFailed to load data from Ergast API! (This is expected for recent sessions)\n",
      "api            INFO \tNo cached data found for timing_data. Loading data...\n",
      "api            INFO \tFetching timing data...\n",
      "api            INFO \tParsing timing data...\n",
      "api            INFO \tData has been written to cache!\n",
      "api            INFO \tNo cached data found for timing_app_data. Loading data...\n",
      "api            INFO \tFetching timing app data...\n",
      "api            INFO \tData has been written to cache!\n",
      "core           INFO \tProcessing timing data...\n",
      "api            INFO \tNo cached data found for session_status_data. Loading data...\n",
      "api            INFO \tFetching session status data...\n",
      "api            INFO \tData has been written to cache!\n",
      "api            INFO \tNo cached data found for track_status_data. Loading data...\n",
      "api            INFO \tFetching track status data...\n",
      "api            INFO \tData has been written to cache!\n",
      "api            INFO \tNo cached data found for car_data. Loading data...\n",
      "api            INFO \tFetching car data...\n",
      "api            INFO \tParsing car data...\n",
      "api            INFO \tData has been written to cache!\n",
      "api            INFO \tNo cached data found for position_data. Loading data...\n",
      "api            INFO \tFetching position data...\n",
      "api            INFO \tParsing position data...\n",
      "api            INFO \tData has been written to cache!\n",
      "api            INFO \tNo cached data found for weather_data. Loading data...\n",
      "api            INFO \tFetching weather data...\n",
      "api            INFO \tData has been written to cache!\n",
      "api            INFO \tNo cached data found for race_control_messages. Loading data...\n",
      "api            INFO \tFetching race control messages...\n",
      "api            INFO \tData has been written to cache!\n",
      "core           INFO \tFinished loading data for 20 drivers: ['1', '63', '55', '44', '31', '27', '24', '23', '22', '21', '20', '18', '16', '14', '11', '10', '4', '2', '77', '81']\n"
     ]
    }
   ],
   "source": [
    "# Loading the session\n",
    "session.load()"
   ]
  },
  {
   "cell_type": "code",
   "execution_count": null,
   "metadata": {},
   "outputs": [],
   "source": []
  }
 ],
 "metadata": {
  "kernelspec": {
   "display_name": "Python 3 (ipykernel)",
   "language": "python",
   "name": "python3"
  },
  "language_info": {
   "codemirror_mode": {
    "name": "ipython",
    "version": 3
   },
   "file_extension": ".py",
   "mimetype": "text/x-python",
   "name": "python",
   "nbconvert_exporter": "python",
   "pygments_lexer": "ipython3",
   "version": "3.9.12"
  }
 },
 "nbformat": 4,
 "nbformat_minor": 2
}
